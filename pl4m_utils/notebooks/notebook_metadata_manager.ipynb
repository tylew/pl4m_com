{
 "cells": [
  {
   "cell_type": "code",
   "execution_count": 22,
   "metadata": {},
   "outputs": [],
   "source": [
    "import importlib\n",
    "# import pl4m_utils\n",
    "import pl4m_utils.metadata_manager\n",
    "\n",
    "# importlib.reload(pl4m_utils)\n",
    "importlib.reload(pl4m_utils.metadata_manager)\n",
    "\n",
    "from pl4m_utils.metadata_manager import MetadataManager"
   ]
  },
  {
   "cell_type": "code",
   "execution_count": 15,
   "metadata": {},
   "outputs": [
    {
     "data": {
      "text/plain": [
       "'lwQUmUmxGbo7UgTMaB9I'"
      ]
     },
     "execution_count": 15,
     "metadata": {},
     "output_type": "execute_result"
    }
   ],
   "source": [
    "doc_id = MetadataManager.create_document(\"test_metadata\", {\"name\": \"222\", \"type\": \"example\", \"value\": 42})\n",
    "\n",
    "doc_id"
   ]
  },
  {
   "cell_type": "code",
   "execution_count": 13,
   "metadata": {},
   "outputs": [
    {
     "data": {
      "text/plain": [
       "{'created_at': DatetimeWithNanoseconds(2025, 2, 26, 5, 1, 59, 974000, tzinfo=datetime.timezone.utc),\n",
       " 'value': 42,\n",
       " 'type': 'example',\n",
       " 'deleted_at': None,\n",
       " 'updated_at': DatetimeWithNanoseconds(2025, 2, 26, 5, 1, 59, 974000, tzinfo=datetime.timezone.utc),\n",
       " 'name': 'Test Document'}"
      ]
     },
     "execution_count": 13,
     "metadata": {},
     "output_type": "execute_result"
    }
   ],
   "source": [
    "MetadataManager.read_document('test_metadata', doc_id)"
   ]
  },
  {
   "cell_type": "code",
   "execution_count": 18,
   "metadata": {},
   "outputs": [
    {
     "ename": "MetadataManagerError",
     "evalue": "Failed to soft-delete document: Document lwQUmUmxGbo7UgTMaB9I is already deleted",
     "output_type": "error",
     "traceback": [
      "\u001b[0;31m---------------------------------------------------------------------------\u001b[0m",
      "\u001b[0;31mValueError\u001b[0m                                Traceback (most recent call last)",
      "File \u001b[0;32m~/Documents/GitHub/pl4m_com/pl4m_utils/src/pl4m_utils/metadata_manager.py:183\u001b[0m, in \u001b[0;36mMetadataManager.soft_delete\u001b[0;34m(collection, document_id)\u001b[0m\n\u001b[1;32m    182\u001b[0m \u001b[38;5;28;01mif\u001b[39;00m doc\u001b[38;5;241m.\u001b[39mto_dict()\u001b[38;5;241m.\u001b[39mget(\u001b[38;5;124m'\u001b[39m\u001b[38;5;124mdeleted_at\u001b[39m\u001b[38;5;124m'\u001b[39m):\n\u001b[0;32m--> 183\u001b[0m     \u001b[38;5;28;01mraise\u001b[39;00m \u001b[38;5;167;01mValueError\u001b[39;00m(\u001b[38;5;124mf\u001b[39m\u001b[38;5;124m\"\u001b[39m\u001b[38;5;124mDocument \u001b[39m\u001b[38;5;132;01m{\u001b[39;00mdocument_id\u001b[38;5;132;01m}\u001b[39;00m\u001b[38;5;124m is already deleted\u001b[39m\u001b[38;5;124m\"\u001b[39m)\n\u001b[1;32m    185\u001b[0m doc_ref\u001b[38;5;241m.\u001b[39mupdate({\n\u001b[1;32m    186\u001b[0m     \u001b[38;5;124m'\u001b[39m\u001b[38;5;124mdeleted_at\u001b[39m\u001b[38;5;124m'\u001b[39m: firestore\u001b[38;5;241m.\u001b[39mSERVER_TIMESTAMP,\n\u001b[1;32m    187\u001b[0m     \u001b[38;5;124m'\u001b[39m\u001b[38;5;124mupdated_at\u001b[39m\u001b[38;5;124m'\u001b[39m: firestore\u001b[38;5;241m.\u001b[39mSERVER_TIMESTAMP\n\u001b[1;32m    188\u001b[0m })\n",
      "\u001b[0;31mValueError\u001b[0m: Document lwQUmUmxGbo7UgTMaB9I is already deleted",
      "\nDuring handling of the above exception, another exception occurred:\n",
      "\u001b[0;31mMetadataManagerError\u001b[0m                      Traceback (most recent call last)",
      "Cell \u001b[0;32mIn[18], line 1\u001b[0m\n\u001b[0;32m----> 1\u001b[0m \u001b[43mMetadataManager\u001b[49m\u001b[38;5;241;43m.\u001b[39;49m\u001b[43msoft_delete\u001b[49m\u001b[43m(\u001b[49m\u001b[38;5;124;43m'\u001b[39;49m\u001b[38;5;124;43mtest_metadata\u001b[39;49m\u001b[38;5;124;43m'\u001b[39;49m\u001b[43m,\u001b[49m\u001b[43m \u001b[49m\u001b[43mdoc_id\u001b[49m\u001b[43m)\u001b[49m\n",
      "File \u001b[0;32m~/Documents/GitHub/pl4m_com/pl4m_utils/src/pl4m_utils/metadata_manager.py:191\u001b[0m, in \u001b[0;36mMetadataManager.soft_delete\u001b[0;34m(collection, document_id)\u001b[0m\n\u001b[1;32m    189\u001b[0m     \u001b[38;5;28;01mreturn\u001b[39;00m \u001b[38;5;28;01mTrue\u001b[39;00m\n\u001b[1;32m    190\u001b[0m \u001b[38;5;28;01mexcept\u001b[39;00m \u001b[38;5;167;01mException\u001b[39;00m \u001b[38;5;28;01mas\u001b[39;00m e:\n\u001b[0;32m--> 191\u001b[0m     \u001b[38;5;28;01mraise\u001b[39;00m MetadataManagerError(\u001b[38;5;124mf\u001b[39m\u001b[38;5;124m\"\u001b[39m\u001b[38;5;124mFailed to soft-delete document: \u001b[39m\u001b[38;5;132;01m{\u001b[39;00m\u001b[38;5;28mstr\u001b[39m(e)\u001b[38;5;132;01m}\u001b[39;00m\u001b[38;5;124m\"\u001b[39m)\n",
      "\u001b[0;31mMetadataManagerError\u001b[0m: Failed to soft-delete document: Document lwQUmUmxGbo7UgTMaB9I is already deleted"
     ]
    }
   ],
   "source": [
    "MetadataManager.soft_delete('test_metadata', doc_id)"
   ]
  },
  {
   "cell_type": "code",
   "execution_count": 25,
   "metadata": {},
   "outputs": [
    {
     "data": {
      "text/plain": [
       "[{'created_at': DatetimeWithNanoseconds(2025, 2, 26, 5, 1, 59, 974000, tzinfo=datetime.timezone.utc),\n",
       "  'value': 42,\n",
       "  'type': 'example',\n",
       "  'deleted_at': None,\n",
       "  'updated_at': DatetimeWithNanoseconds(2025, 2, 26, 5, 1, 59, 974000, tzinfo=datetime.timezone.utc),\n",
       "  'name': 'Test Document'}]"
      ]
     },
     "execution_count": 25,
     "metadata": {},
     "output_type": "execute_result"
    }
   ],
   "source": [
    "MetadataManager.list_documents('test_metadata', include_deleted=False)"
   ]
  }
 ],
 "metadata": {
  "kernelspec": {
   "display_name": "pl4m",
   "language": "python",
   "name": "python3"
  },
  "language_info": {
   "codemirror_mode": {
    "name": "ipython",
    "version": 3
   },
   "file_extension": ".py",
   "mimetype": "text/x-python",
   "name": "python",
   "nbconvert_exporter": "python",
   "pygments_lexer": "ipython3",
   "version": "3.9.21"
  }
 },
 "nbformat": 4,
 "nbformat_minor": 2
}
